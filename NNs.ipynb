{
 "cells": [
  {
   "cell_type": "code",
   "execution_count": 33,
   "metadata": {},
   "outputs": [],
   "source": [
    "import tensorflow as tf\n",
    "from tensorflow import keras\n",
    "import pandas as pd\n",
    "from tensorflow.keras import layers\n"
   ]
  },
  {
   "cell_type": "code",
   "execution_count": 34,
   "metadata": {},
   "outputs": [],
   "source": [
    "df = pd.read_csv('input/train.csv')\n",
    "test = pd.read_csv('input/test.csv')"
   ]
  },
  {
   "cell_type": "code",
   "execution_count": 35,
   "metadata": {},
   "outputs": [],
   "source": [
    "X = df.drop(['id', 'defects'], axis=1).values\n",
    "y = df.defects.astype('int').values"
   ]
  },
  {
   "cell_type": "code",
   "execution_count": 68,
   "metadata": {},
   "outputs": [],
   "source": [
    "\n",
    "model = tf.keras.Sequential([\n",
    "    layers.Input(shape=(X.shape[1],)),  # Input layer with input_dim features\n",
    "    layers.Dense(64, activation='relu'),\n",
    "    layers.Dense(32, activation='relu'),\n",
    "    layers.Dense(1, activation='sigmoid')  # Output layer with sigmoid activation\n",
    "])\n"
   ]
  },
  {
   "cell_type": "code",
   "execution_count": 69,
   "metadata": {},
   "outputs": [],
   "source": [
    "model.compile(optimizer='adam',\n",
    "              loss='binary_crossentropy',\n",
    "              metrics=[tf.keras.metrics.AUC()])\n"
   ]
  },
  {
   "cell_type": "code",
   "execution_count": 70,
   "metadata": {},
   "outputs": [],
   "source": [
    "from sklearn.model_selection import train_test_split\n",
    "\n",
    "X_train, X_val, y_train, y_val= train_test_split(X, y, test_size=0.2, stratify=y, random_state=42)"
   ]
  },
  {
   "cell_type": "code",
   "execution_count": 73,
   "metadata": {},
   "outputs": [
    {
     "name": "stdout",
     "output_type": "stream",
     "text": [
      "Epoch 1/100\n",
      "1273/1273 [==============================] - 1s 1ms/step - loss: 0.4513 - auc_8: 0.7682 - val_loss: 0.4534 - val_auc_8: 0.7726\n",
      "Epoch 2/100\n",
      "1273/1273 [==============================] - 1s 1ms/step - loss: 0.4474 - auc_8: 0.7701 - val_loss: 0.4437 - val_auc_8: 0.7787\n",
      "Epoch 3/100\n",
      "1273/1273 [==============================] - 1s 1ms/step - loss: 0.4471 - auc_8: 0.7701 - val_loss: 0.4515 - val_auc_8: 0.7712\n",
      "Epoch 4/100\n",
      "1273/1273 [==============================] - 1s 1ms/step - loss: 0.4468 - auc_8: 0.7701 - val_loss: 0.4701 - val_auc_8: 0.7570\n",
      "Epoch 5/100\n",
      "1273/1273 [==============================] - 1s 1ms/step - loss: 0.4492 - auc_8: 0.7673 - val_loss: 0.4432 - val_auc_8: 0.7770\n",
      "Epoch 6/100\n",
      "1273/1273 [==============================] - 1s 1ms/step - loss: 0.4456 - auc_8: 0.7719 - val_loss: 0.4439 - val_auc_8: 0.7815\n",
      "Epoch 7/100\n",
      "1273/1273 [==============================] - 1s 1ms/step - loss: 0.4504 - auc_8: 0.7660 - val_loss: 0.4440 - val_auc_8: 0.7764\n",
      "Epoch 8/100\n",
      "1273/1273 [==============================] - 1s 1ms/step - loss: 0.4465 - auc_8: 0.7711 - val_loss: 0.4407 - val_auc_8: 0.7818\n",
      "Epoch 9/100\n",
      "1273/1273 [==============================] - 1s 1ms/step - loss: 0.4459 - auc_8: 0.7721 - val_loss: 0.4562 - val_auc_8: 0.7714\n",
      "Epoch 10/100\n",
      "1273/1273 [==============================] - 1s 1ms/step - loss: 0.4445 - auc_8: 0.7739 - val_loss: 0.4457 - val_auc_8: 0.7769\n",
      "Epoch 11/100\n",
      "1273/1273 [==============================] - 1s 1ms/step - loss: 0.4456 - auc_8: 0.7726 - val_loss: 0.4431 - val_auc_8: 0.7831\n",
      "Epoch 12/100\n",
      "1273/1273 [==============================] - 1s 1ms/step - loss: 0.4455 - auc_8: 0.7720 - val_loss: 0.4429 - val_auc_8: 0.7754\n",
      "Epoch 13/100\n",
      "1273/1273 [==============================] - 1s 1ms/step - loss: 0.4441 - auc_8: 0.7740 - val_loss: 0.4385 - val_auc_8: 0.7832\n",
      "Epoch 14/100\n",
      "1273/1273 [==============================] - 1s 1ms/step - loss: 0.4466 - auc_8: 0.7733 - val_loss: 0.4415 - val_auc_8: 0.7811\n",
      "Epoch 15/100\n",
      "1273/1273 [==============================] - 1s 1ms/step - loss: 0.4440 - auc_8: 0.7737 - val_loss: 0.4394 - val_auc_8: 0.7814\n",
      "Epoch 16/100\n",
      "1273/1273 [==============================] - 1s 1ms/step - loss: 0.4438 - auc_8: 0.7741 - val_loss: 0.4406 - val_auc_8: 0.7831\n",
      "Epoch 17/100\n",
      "1273/1273 [==============================] - 1s 1ms/step - loss: 0.4441 - auc_8: 0.7739 - val_loss: 0.4409 - val_auc_8: 0.7812\n",
      "Epoch 18/100\n",
      "1273/1273 [==============================] - 1s 1ms/step - loss: 0.4435 - auc_8: 0.7741 - val_loss: 0.4382 - val_auc_8: 0.7824\n",
      "Epoch 19/100\n",
      "1273/1273 [==============================] - 1s 1ms/step - loss: 0.4442 - auc_8: 0.7728 - val_loss: 0.4383 - val_auc_8: 0.7829\n",
      "Epoch 20/100\n",
      "1273/1273 [==============================] - 1s 1ms/step - loss: 0.4448 - auc_8: 0.7725 - val_loss: 0.4425 - val_auc_8: 0.7828\n",
      "Epoch 21/100\n",
      "1273/1273 [==============================] - 1s 1ms/step - loss: 0.4444 - auc_8: 0.7729 - val_loss: 0.4413 - val_auc_8: 0.7806\n",
      "Epoch 22/100\n",
      "1273/1273 [==============================] - 1s 1ms/step - loss: 0.4454 - auc_8: 0.7716 - val_loss: 0.4407 - val_auc_8: 0.7811\n",
      "Epoch 23/100\n",
      "1273/1273 [==============================] - 1s 1ms/step - loss: 0.4446 - auc_8: 0.7751 - val_loss: 0.4390 - val_auc_8: 0.7826\n",
      "Epoch 24/100\n",
      "1273/1273 [==============================] - 1s 1ms/step - loss: 0.4430 - auc_8: 0.7748 - val_loss: 0.4446 - val_auc_8: 0.7820\n",
      "Epoch 25/100\n",
      "1273/1273 [==============================] - 1s 1ms/step - loss: 0.4422 - auc_8: 0.7763 - val_loss: 0.4396 - val_auc_8: 0.7808\n",
      "Epoch 26/100\n",
      "1273/1273 [==============================] - 1s 1ms/step - loss: 0.4424 - auc_8: 0.7757 - val_loss: 0.4407 - val_auc_8: 0.7823\n",
      "Epoch 27/100\n",
      "1273/1273 [==============================] - 1s 1ms/step - loss: 0.4414 - auc_8: 0.7767 - val_loss: 0.4401 - val_auc_8: 0.7807\n",
      "Epoch 28/100\n",
      "1273/1273 [==============================] - 1s 1ms/step - loss: 0.4424 - auc_8: 0.7754 - val_loss: 0.4427 - val_auc_8: 0.7806\n"
     ]
    }
   ],
   "source": [
    "epochs= 100\n",
    "batch_size = 64\n",
    "\n",
    "\n",
    "history = model.fit(X_train, y_train, epochs=epochs, batch_size=batch_size,\n",
    "                    validation_data=(X_val, y_val),\n",
    "                    callbacks=[tf.keras.callbacks.EarlyStopping(patience=10)])\n"
   ]
  },
  {
   "cell_type": "code",
   "execution_count": 74,
   "metadata": {},
   "outputs": [
    {
     "data": {
      "text/plain": [
       "0.43822798132896423"
      ]
     },
     "execution_count": 74,
     "metadata": {},
     "output_type": "execute_result"
    }
   ],
   "source": [
    "min(history.history['val_loss'])"
   ]
  },
  {
   "cell_type": "code",
   "execution_count": 75,
   "metadata": {},
   "outputs": [
    {
     "name": "stdout",
     "output_type": "stream",
     "text": [
      "637/637 [==============================] - 0s 643us/step\n"
     ]
    },
    {
     "ename": "ValueError",
     "evalue": "Data must be 1-dimensional",
     "output_type": "error",
     "traceback": [
      "\u001b[1;31m---------------------------------------------------------------------------\u001b[0m",
      "\u001b[1;31mValueError\u001b[0m                                Traceback (most recent call last)",
      "\u001b[1;32me:\\AE\\FCDS\\DL projects\\software defects\\Binary-Classification-with-a-Software-Defects-Dataset\\NNs.ipynb Cell 9\u001b[0m line \u001b[0;36m1\n\u001b[1;32m----> <a href='vscode-notebook-cell:/e%3A/AE/FCDS/DL%20projects/software%20defects/Binary-Classification-with-a-Software-Defects-Dataset/NNs.ipynb#X10sZmlsZQ%3D%3D?line=0'>1</a>\u001b[0m pd\u001b[39m.\u001b[39;49mSeries(model\u001b[39m.\u001b[39;49mpredict(X_val))\n",
      "File \u001b[1;32mc:\\Users\\Ahmed\\AppData\\Local\\Programs\\Python\\Python311\\Lib\\site-packages\\pandas\\core\\series.py:470\u001b[0m, in \u001b[0;36mSeries.__init__\u001b[1;34m(self, data, index, dtype, name, copy, fastpath)\u001b[0m\n\u001b[0;32m    468\u001b[0m         data \u001b[39m=\u001b[39m data\u001b[39m.\u001b[39mcopy()\n\u001b[0;32m    469\u001b[0m \u001b[39melse\u001b[39;00m:\n\u001b[1;32m--> 470\u001b[0m     data \u001b[39m=\u001b[39m sanitize_array(data, index, dtype, copy)\n\u001b[0;32m    472\u001b[0m     manager \u001b[39m=\u001b[39m get_option(\u001b[39m\"\u001b[39m\u001b[39mmode.data_manager\u001b[39m\u001b[39m\"\u001b[39m)\n\u001b[0;32m    473\u001b[0m     \u001b[39mif\u001b[39;00m manager \u001b[39m==\u001b[39m \u001b[39m\"\u001b[39m\u001b[39mblock\u001b[39m\u001b[39m\"\u001b[39m:\n",
      "File \u001b[1;32mc:\\Users\\Ahmed\\AppData\\Local\\Programs\\Python\\Python311\\Lib\\site-packages\\pandas\\core\\construction.py:647\u001b[0m, in \u001b[0;36msanitize_array\u001b[1;34m(data, index, dtype, copy, raise_cast_failure, allow_2d)\u001b[0m\n\u001b[0;32m    644\u001b[0m             subarr \u001b[39m=\u001b[39m cast(np\u001b[39m.\u001b[39mndarray, subarr)\n\u001b[0;32m    645\u001b[0m             subarr \u001b[39m=\u001b[39m maybe_infer_to_datetimelike(subarr)\n\u001b[1;32m--> 647\u001b[0m subarr \u001b[39m=\u001b[39m _sanitize_ndim(subarr, data, dtype, index, allow_2d\u001b[39m=\u001b[39;49mallow_2d)\n\u001b[0;32m    649\u001b[0m \u001b[39mif\u001b[39;00m \u001b[39misinstance\u001b[39m(subarr, np\u001b[39m.\u001b[39mndarray):\n\u001b[0;32m    650\u001b[0m     \u001b[39m# at this point we should have dtype be None or subarr.dtype == dtype\u001b[39;00m\n\u001b[0;32m    651\u001b[0m     dtype \u001b[39m=\u001b[39m cast(np\u001b[39m.\u001b[39mdtype, dtype)\n",
      "File \u001b[1;32mc:\\Users\\Ahmed\\AppData\\Local\\Programs\\Python\\Python311\\Lib\\site-packages\\pandas\\core\\construction.py:698\u001b[0m, in \u001b[0;36m_sanitize_ndim\u001b[1;34m(result, data, dtype, index, allow_2d)\u001b[0m\n\u001b[0;32m    696\u001b[0m     \u001b[39mif\u001b[39;00m allow_2d:\n\u001b[0;32m    697\u001b[0m         \u001b[39mreturn\u001b[39;00m result\n\u001b[1;32m--> 698\u001b[0m     \u001b[39mraise\u001b[39;00m \u001b[39mValueError\u001b[39;00m(\u001b[39m\"\u001b[39m\u001b[39mData must be 1-dimensional\u001b[39m\u001b[39m\"\u001b[39m)\n\u001b[0;32m    699\u001b[0m \u001b[39mif\u001b[39;00m is_object_dtype(dtype) \u001b[39mand\u001b[39;00m \u001b[39misinstance\u001b[39m(dtype, ExtensionDtype):\n\u001b[0;32m    700\u001b[0m     \u001b[39m# i.e. PandasDtype(\"O\")\u001b[39;00m\n\u001b[0;32m    702\u001b[0m     result \u001b[39m=\u001b[39m com\u001b[39m.\u001b[39masarray_tuplesafe(data, dtype\u001b[39m=\u001b[39mnp\u001b[39m.\u001b[39mdtype(\u001b[39m\"\u001b[39m\u001b[39mobject\u001b[39m\u001b[39m\"\u001b[39m))\n",
      "\u001b[1;31mValueError\u001b[0m: Data must be 1-dimensional"
     ]
    }
   ],
   "source": [
    "pd.Series(model.predict(X_val))"
   ]
  },
  {
   "cell_type": "code",
   "execution_count": 76,
   "metadata": {},
   "outputs": [
    {
     "name": "stdout",
     "output_type": "stream",
     "text": [
      "637/637 [==============================] - 0s 627us/step\n"
     ]
    }
   ],
   "source": [
    "preds = model.predict(X_val)\n",
    "\n"
   ]
  },
  {
   "cell_type": "code",
   "execution_count": 77,
   "metadata": {},
   "outputs": [
    {
     "data": {
      "text/plain": [
       "(17844, (20353,))"
      ]
     },
     "execution_count": 77,
     "metadata": {},
     "output_type": "execute_result"
    }
   ],
   "source": [
    "pd.Series(preds.reshape(1, -1)[0]).nunique(), pd.Series(preds.reshape(1, -1)[0]).shape"
   ]
  },
  {
   "cell_type": "code",
   "execution_count": 78,
   "metadata": {},
   "outputs": [
    {
     "name": "stdout",
     "output_type": "stream",
     "text": [
      "  1/637 [..............................] - ETA: 10s - loss: 0.4061 - auc_8: 0.8371"
     ]
    },
    {
     "name": "stdout",
     "output_type": "stream",
     "text": [
      "637/637 [==============================] - 1s 763us/step - loss: 0.4427 - auc_8: 0.7806\n",
      "Test AUC: 0.7806196212768555\n"
     ]
    }
   ],
   "source": [
    "test_auc = model.evaluate(X_val, y_val)[1]  # AUC is the second metric\n",
    "print(f'Test AUC: {test_auc}')"
   ]
  },
  {
   "cell_type": "code",
   "execution_count": null,
   "metadata": {},
   "outputs": [],
   "source": []
  }
 ],
 "metadata": {
  "kernelspec": {
   "display_name": "Python 3",
   "language": "python",
   "name": "python3"
  },
  "language_info": {
   "codemirror_mode": {
    "name": "ipython",
    "version": 3
   },
   "file_extension": ".py",
   "mimetype": "text/x-python",
   "name": "python",
   "nbconvert_exporter": "python",
   "pygments_lexer": "ipython3",
   "version": "3.11.2"
  }
 },
 "nbformat": 4,
 "nbformat_minor": 2
}
